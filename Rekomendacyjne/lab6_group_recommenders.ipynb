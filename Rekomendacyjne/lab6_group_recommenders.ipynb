{
 "cells": [
  {
   "cell_type": "markdown",
   "metadata": {},
   "source": [
    "# Laboratorium 6 - rekomendacje grupowe\n",
    "\n",
    "## Przygotowanie\n",
    "\n",
    " * pobierz i wypakuj dataset: https://files.grouplens.org/datasets/movielens/ml-latest-small.zip\n",
    "   * więcej możesz poczytać tutaj: https://grouplens.org/datasets/movielens/\n",
    " * [opcjonalnie] Utwórz wirtualne środowisko\n",
    " `python3 -m venv ./recsyslab6`\n",
    " * zainstaluj potrzebne biblioteki:\n",
    " `pip install numpy pandas matplotlib`"
   ]
  },
  {
   "cell_type": "markdown",
   "metadata": {},
   "source": [
    "## Część 1. - przygotowanie danych"
   ]
  },
  {
   "cell_type": "code",
   "execution_count": null,
   "metadata": {},
   "outputs": [],
   "source": [
    "# importujemy wszystkie potrzebne pakiety\n",
    "\n",
    "import math\n",
    "import numpy as np\n",
    "import pandas\n",
    "\n",
    "from random import choice, sample\n",
    "from statistics import mean, stdev\n",
    "\n",
    "from reco_utils import *"
   ]
  },
  {
   "cell_type": "code",
   "execution_count": null,
   "metadata": {},
   "outputs": [],
   "source": [
    "# wczytujemy oceny uytkownikow i obliczamy (za pomocą collaborative filtering) wszystkie przewidywane oceny filmow\n",
    "\n",
    "raw_ratings = pandas.read_csv('ml-latest-small/ratings.csv').drop(columns=['timestamp'])\n",
    "movies = list(raw_ratings['movieId'].unique())\n",
    "users = list(raw_ratings['userId'].unique())\n",
    "ratings = get_predicted_ratings(raw_ratings)\n",
    "ratings"
   ]
  },
  {
   "cell_type": "code",
   "execution_count": null,
   "metadata": {},
   "outputs": [],
   "source": [
    "# definiujemy testowe grupy uzytkownikow, dla ktorych bedziemy generowac rekomendacje\n",
    "\n",
    "groups_no = 50\n",
    "group_size = 5\n",
    "groups = [sample(users, group_size) for i in range(groups_no)]\n",
    "groups"
   ]
  },
  {
   "cell_type": "markdown",
   "metadata": {},
   "source": [
    "## Część 2. - algorytmy proste"
   ]
  },
  {
   "cell_type": "code",
   "execution_count": null,
   "metadata": {},
   "outputs": [],
   "source": [
    "# zdefiniujmy interfejs dla wszystkich algorytmow rekomendacyjnych\n",
    "\n",
    "class Recommender:\n",
    "    def recommend(self, movies, ratings, group, size):\n",
    "        pass\n",
    "\n",
    "\n",
    "# jako pierwszy zaimplementujemy algorytm losowy - dla porownania\n",
    "    \n",
    "class RandomRecommender(Recommender):\n",
    "    def __init__(self):\n",
    "        self.name = 'random'\n",
    "        \n",
    "    def recommend(self, movies, ratings, group, size):\n",
    "        return sample(movies, size)"
   ]
  },
  {
   "cell_type": "code",
   "execution_count": null,
   "metadata": {},
   "outputs": [],
   "source": [
    "# algorytm rekomendujacy filmy o najwyzszej sredniej ocen\n",
    "\n",
    "class AverageRecommender(Recommender):\n",
    "    def __init__(self):\n",
    "        self.name = 'average'\n",
    "    \n",
    "    def recommend(self, movies, ratings, group, size):\n",
    "        return sorted(movies, key=lambda movie: self.score(movie, ratings, group), reverse=True)[:size]\n",
    "        \n",
    "    def score(self, movie_id, ratings, group):\n",
    "        average =  1.0 * sum([ratings[movie_id][user] for user in group]) / len(group)\n",
    "        return average"
   ]
  },
  {
   "cell_type": "code",
   "execution_count": null,
   "metadata": {},
   "outputs": [],
   "source": [
    "# algorytm rekomendujacy filmy o najwyzszej sredniej ocen,\n",
    "#   ale rownoczesnie wykluczajacy te filmy, ktore otrzymaly choc jedna ocene ponizej thresholdu\n",
    "\n",
    "class AverageWithoutMiseryRecommender(Recommender):\n",
    "    def __init__(self, score_threshold):\n",
    "        self.name = 'average_without_misery'\n",
    "        self.score_threshold = score_threshold\n",
    "        \n",
    "    def recommend(self, movies, ratings, group, size):\n",
    "        movies_without_misery = [m for m in movies if self.min_rating(m, ratings, group) > self.score_threshold]\n",
    "        return sorted(movies, key=lambda movie: self.score(movie, ratings, group), reverse=True)[:size]\n",
    "        \n",
    "    def score(self, movie_id, ratings, group):\n",
    "        average =  1.0 * sum([ratings[movie_id][user] for user in group]) / len(group)\n",
    "        return average\n",
    "    \n",
    "    def min_rating(self, movie_id, ratings, group):\n",
    "        return min([ratings[movie_id][user] for user in group])"
   ]
  },
  {
   "cell_type": "code",
   "execution_count": null,
   "metadata": {},
   "outputs": [],
   "source": [
    "# algorytm uwzgledniajacy preferencje tylko jednego uzytkownika\n",
    "\n",
    "class DictatorshipRecommender(Recommender):\n",
    "    def __init__(self, dictator_id):\n",
    "        self.name = 'dictatorship'\n",
    "        self.dictator_id = dictator_id\n",
    "        \n",
    "    def recommend(self, movies, ratings, group, size):\n",
    "        return sorted(movies, key=lambda m: ratings[m][self.dictator_id], reverse=True)[:size]"
   ]
  },
  {
   "cell_type": "code",
   "execution_count": null,
   "metadata": {},
   "outputs": [],
   "source": [
    "# algorytm, ktory w kazdej turze uwzglednia preferencje tylko jednego, kolejnego uzytkownika\n",
    "\n",
    "class FairnessRecommender(Recommender):\n",
    "    def __init__(self):\n",
    "        self.name = 'fairness'\n",
    "    \n",
    "    def recommend(self, movies, ratings, group, size):\n",
    "        pass"
   ]
  },
  {
   "cell_type": "code",
   "execution_count": null,
   "metadata": {},
   "outputs": [],
   "source": [
    "# algorytm zachlanny, aproksymujacy metode Proportional Approval Voting\n",
    "#   w kazdej iteracji wybieramy ten film, ktory najbardziej zwieksza zadowolenie zgodnie z punktacja PAV\n",
    "\n",
    "class PAVRecommender(Recommender):\n",
    "    def __init__(self, dictator_id):\n",
    "        self.name = 'PAV'\n",
    "        \n",
    "    def recommend(self, movies, ratings, group, size):\n",
    "        pass"
   ]
  },
  {
   "cell_type": "markdown",
   "metadata": {},
   "source": [
    "## Część 3. - funkcje celu"
   ]
  },
  {
   "cell_type": "code",
   "execution_count": null,
   "metadata": {},
   "outputs": [],
   "source": [
    "# dwie funkcje pomocnicze:\n",
    "#  - znajdujaca ulubione filmy danego uzytkownika\n",
    "#  - obliczajaca sume ocen wystawionych przez uzytkownika wszystkim filmom w rekomendacji\n",
    "\n",
    "def top_n_movies_for_user(ratings, movies, user_id, n):\n",
    "    return # ...\n",
    "\n",
    "def total_score(recommendation, user_id, ratings):\n",
    "    return # ..."
   ]
  },
  {
   "cell_type": "code",
   "execution_count": null,
   "metadata": {},
   "outputs": [],
   "source": [
    "# funkcja obliczajaca zadowolenie pojedynczego uzytkownika\n",
    "#  - iloraz zadowolenia z wygenerowanej rekomendacji oraz zadowolenia z hipotetycznej rekomendacji idealnej\n",
    "def overall_user_satisfaction(recommendation, user_id, movies, ratings):\n",
    "    # ...\n",
    "\n",
    "# funkcja celu - srednia z zadowolenia wszystkich uzytkownikow w grupie\n",
    "def overall_group_satisfaction(recommendation, group, movies, ratings):\n",
    "    return 1.0 * sum([overall_user_satisfaction(recommendation, user_id, movies, ratings) for user_id in group]) / len(group)\n",
    "\n",
    "# funkcja celu - roznica miedzy maksymalnym i minimalnym zadowolenie w grupie\n",
    "def group_dissatisfaction(recommendation, group, movies, ratings):\n",
    "    satisfaction_scores = [overall_user_satisfaction(recommendation, user_id, movies, ratings) for user_id in group]\n",
    "    return max(satisfaction_scores) - min(satisfaction_scores)"
   ]
  },
  {
   "cell_type": "markdown",
   "metadata": {},
   "source": [
    "## Część 4. - Sequential Hybrid Aggregation"
   ]
  },
  {
   "cell_type": "code",
   "execution_count": null,
   "metadata": {},
   "outputs": [],
   "source": [
    "# algorytm balansujacy pomiedzy wyborem elementow o najwyzszej sredniej ocen\n",
    "#   i o najwyzszej minimalnej ocenie\n",
    "#   wyliczajacy w kazdej iteracji parametr alfa - jak na wykladzie\n",
    "class SequentialHybridAggregationRecommender(Recommender):\n",
    "     def __init__(self, dictator_id):\n",
    "        self.name = 'sequential_hybrid_aggregation'\n",
    "    \n",
    "    pass"
   ]
  },
  {
   "cell_type": "markdown",
   "metadata": {},
   "source": [
    "## Część 5. - porównanie algorytmów"
   ]
  },
  {
   "cell_type": "code",
   "execution_count": null,
   "metadata": {
    "scrolled": true
   },
   "outputs": [],
   "source": [
    "recommenders = [\n",
    "    RandomRecommender(),\n",
    "    AverageRecommender(),\n",
    "    AverageWithoutMiseryRecommender(2),\n",
    "    DictatorshipRecommender(1),\n",
    "    FairnessRecommender(),\n",
    "    PAVRecommender(),\n",
    "    SequentialHybridAggregationRecommender\n",
    "]\n",
    "\n",
    "recommendation_size = 10\n",
    "\n",
    "# dla kazdego algorytmu:\n",
    "#  - wygenerujmy jedna rekomendacje dla kazdej grupy\n",
    "#  - obliczmy wartosci funkcji celu dla kazdej rekomendacji\n",
    "#  - obliczmy srednia i odchylenie standardowe wartosci funkcji celu\n",
    "#  - wypiszmy wyniki na konsole\n",
    "\n",
    "for recommender in recommenders:\n",
    "    # ..."
   ]
  }
 ],
 "metadata": {
  "kernelspec": {
   "display_name": "Python 3",
   "language": "python",
   "name": "python3"
  },
  "language_info": {
   "codemirror_mode": {
    "name": "ipython",
    "version": 3
   },
   "file_extension": ".py",
   "mimetype": "text/x-python",
   "name": "python",
   "nbconvert_exporter": "python",
   "pygments_lexer": "ipython3",
   "version": "3.7.3"
  }
 },
 "nbformat": 4,
 "nbformat_minor": 4
}
