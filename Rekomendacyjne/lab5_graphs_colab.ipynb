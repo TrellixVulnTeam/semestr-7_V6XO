{
 "cells": [
  {
   "cell_type": "markdown",
   "metadata": {
    "id": "XDoXOSoMt-qZ"
   },
   "source": [
    "# Laboratorium 5 - rekomendacje grafowe\n",
    "\n",
    "## Przygotowanie\n",
    "\n",
    " * dataset i potrzebne biblioteki są dokładnie takie same jak na poprzednim laboratorium\n",
    " * pobierz i wypakuj dataset: https://files.grouplens.org/datasets/movielens/ml-latest-small.zip\n",
    "   * więcej możesz poczytać tutaj: https://grouplens.org/datasets/movielens/\n",
    " * [opcjonalnie] Utwórz wirtualne środowisko\n",
    " `python3 -m venv ./recsyslab5`\n",
    " * zainstaluj potrzebne biblioteki:\n",
    " `pip install numpy pandas sklearn gensim==3.8.3`"
   ]
  },
  {
   "cell_type": "markdown",
   "metadata": {
    "id": "VMD3BNBUt-qg"
   },
   "source": [
    "## Część 1. - przygotowanie danych"
   ]
  },
  {
   "cell_type": "code",
   "execution_count": 4,
   "metadata": {
    "id": "_MCtsUKSt-qh"
   },
   "outputs": [],
   "source": [
    "# importujemy wszystkie potrzebne pakiety\n",
    "\n",
    "import math\n",
    "import random\n",
    "import numpy as np\n",
    "import pandas\n",
    "\n",
    "from gensim.models import Word2Vec\n",
    "\n",
    "from sklearn.model_selection import train_test_split, KFold"
   ]
  },
  {
   "cell_type": "code",
   "execution_count": 5,
   "metadata": {
    "id": "p76HuA-nt-qj"
   },
   "outputs": [],
   "source": [
    "SCORE_THRESHOLD = 4.0 # recenzje z co najmniej taka ocena wezmiemy pod uwage\n",
    "VECTOR_SIZE = 20 # jak dlugie powinny byc wektory osadzen wierzcholkow\n",
    "NEIGHBOURS_WINDOW = 11 # tylu sasiadow wezmiemy pod uwage w algorytmie Word2Vec (symetrycznie i wliczajac biezacy element)\n",
    "PATH_LENGTH = 30 # dlugosc pojedynczej losowej sciezki\n",
    "PATHS_COUNT_PER_NODE = 20 # liczba losowych sciezek zaczynajacych sie w kazdym z wierzcholkow"
   ]
  },
  {
   "cell_type": "code",
   "execution_count": 6,
   "metadata": {
    "colab": {
     "base_uri": "https://localhost:8080/",
     "height": 417
    },
    "id": "9uplngHet-qk",
    "outputId": "94cf8e22-7b18-4adb-9e8f-1166d412aab3"
   },
   "outputs": [
    {
     "data": {
      "text/html": [
       "<div>\n",
       "<style scoped>\n",
       "    .dataframe tbody tr th:only-of-type {\n",
       "        vertical-align: middle;\n",
       "    }\n",
       "\n",
       "    .dataframe tbody tr th {\n",
       "        vertical-align: top;\n",
       "    }\n",
       "\n",
       "    .dataframe thead th {\n",
       "        text-align: right;\n",
       "    }\n",
       "</style>\n",
       "<table border=\"1\" class=\"dataframe\">\n",
       "  <thead>\n",
       "    <tr style=\"text-align: right;\">\n",
       "      <th></th>\n",
       "      <th>userId</th>\n",
       "      <th>movieId</th>\n",
       "      <th>rating</th>\n",
       "    </tr>\n",
       "  </thead>\n",
       "  <tbody>\n",
       "    <tr>\n",
       "      <th>0</th>\n",
       "      <td>u_1</td>\n",
       "      <td>m_1</td>\n",
       "      <td>4.0</td>\n",
       "    </tr>\n",
       "    <tr>\n",
       "      <th>1</th>\n",
       "      <td>u_1</td>\n",
       "      <td>m_3</td>\n",
       "      <td>4.0</td>\n",
       "    </tr>\n",
       "    <tr>\n",
       "      <th>2</th>\n",
       "      <td>u_1</td>\n",
       "      <td>m_6</td>\n",
       "      <td>4.0</td>\n",
       "    </tr>\n",
       "    <tr>\n",
       "      <th>3</th>\n",
       "      <td>u_1</td>\n",
       "      <td>m_47</td>\n",
       "      <td>5.0</td>\n",
       "    </tr>\n",
       "    <tr>\n",
       "      <th>4</th>\n",
       "      <td>u_1</td>\n",
       "      <td>m_50</td>\n",
       "      <td>5.0</td>\n",
       "    </tr>\n",
       "    <tr>\n",
       "      <th>...</th>\n",
       "      <td>...</td>\n",
       "      <td>...</td>\n",
       "      <td>...</td>\n",
       "    </tr>\n",
       "    <tr>\n",
       "      <th>100830</th>\n",
       "      <td>u_610</td>\n",
       "      <td>m_166528</td>\n",
       "      <td>4.0</td>\n",
       "    </tr>\n",
       "    <tr>\n",
       "      <th>100831</th>\n",
       "      <td>u_610</td>\n",
       "      <td>m_166534</td>\n",
       "      <td>4.0</td>\n",
       "    </tr>\n",
       "    <tr>\n",
       "      <th>100832</th>\n",
       "      <td>u_610</td>\n",
       "      <td>m_168248</td>\n",
       "      <td>5.0</td>\n",
       "    </tr>\n",
       "    <tr>\n",
       "      <th>100833</th>\n",
       "      <td>u_610</td>\n",
       "      <td>m_168250</td>\n",
       "      <td>5.0</td>\n",
       "    </tr>\n",
       "    <tr>\n",
       "      <th>100834</th>\n",
       "      <td>u_610</td>\n",
       "      <td>m_168252</td>\n",
       "      <td>5.0</td>\n",
       "    </tr>\n",
       "  </tbody>\n",
       "</table>\n",
       "<p>48580 rows × 3 columns</p>\n",
       "</div>"
      ],
      "text/plain": [
       "       userId   movieId  rating\n",
       "0         u_1       m_1     4.0\n",
       "1         u_1       m_3     4.0\n",
       "2         u_1       m_6     4.0\n",
       "3         u_1      m_47     5.0\n",
       "4         u_1      m_50     5.0\n",
       "...       ...       ...     ...\n",
       "100830  u_610  m_166528     4.0\n",
       "100831  u_610  m_166534     4.0\n",
       "100832  u_610  m_168248     5.0\n",
       "100833  u_610  m_168250     5.0\n",
       "100834  u_610  m_168252     5.0\n",
       "\n",
       "[48580 rows x 3 columns]"
      ]
     },
     "execution_count": 6,
     "metadata": {},
     "output_type": "execute_result"
    }
   ],
   "source": [
    "# wczytujemy oceny uytkownikow\n",
    "\n",
    "ratings = pandas.read_csv('ml-latest-small/ratings.csv').drop(columns=['timestamp'])\n",
    "ratings = ratings.where(ratings['rating'] >= SCORE_THRESHOLD).dropna()\n",
    "# rozszerzamy ID tak, by sie nie powtarzaly\n",
    "ratings['userId'] = ratings['userId'].apply(lambda x: 'u_' + str(int(x)))\n",
    "ratings['movieId'] = ratings['movieId'].apply(lambda x: 'm_' + str(int(x)))\n",
    "ratings"
   ]
  },
  {
   "cell_type": "code",
   "execution_count": 7,
   "metadata": {
    "colab": {
     "base_uri": "https://localhost:8080/",
     "height": 417
    },
    "id": "Q-5izk_3t-qk",
    "outputId": "8f87ade4-9838-48bc-8ce3-0f2679279347"
   },
   "outputs": [
    {
     "data": {
      "text/html": [
       "<div>\n",
       "<style scoped>\n",
       "    .dataframe tbody tr th:only-of-type {\n",
       "        vertical-align: middle;\n",
       "    }\n",
       "\n",
       "    .dataframe tbody tr th {\n",
       "        vertical-align: top;\n",
       "    }\n",
       "\n",
       "    .dataframe thead th {\n",
       "        text-align: right;\n",
       "    }\n",
       "</style>\n",
       "<table border=\"1\" class=\"dataframe\">\n",
       "  <thead>\n",
       "    <tr style=\"text-align: right;\">\n",
       "      <th></th>\n",
       "      <th>movieId</th>\n",
       "      <th>genre</th>\n",
       "    </tr>\n",
       "  </thead>\n",
       "  <tbody>\n",
       "    <tr>\n",
       "      <th>0</th>\n",
       "      <td>m_1</td>\n",
       "      <td>g_adventure</td>\n",
       "    </tr>\n",
       "    <tr>\n",
       "      <th>0</th>\n",
       "      <td>m_1</td>\n",
       "      <td>g_animation</td>\n",
       "    </tr>\n",
       "    <tr>\n",
       "      <th>0</th>\n",
       "      <td>m_1</td>\n",
       "      <td>g_children</td>\n",
       "    </tr>\n",
       "    <tr>\n",
       "      <th>0</th>\n",
       "      <td>m_1</td>\n",
       "      <td>g_comedy</td>\n",
       "    </tr>\n",
       "    <tr>\n",
       "      <th>0</th>\n",
       "      <td>m_1</td>\n",
       "      <td>g_fantasy</td>\n",
       "    </tr>\n",
       "    <tr>\n",
       "      <th>...</th>\n",
       "      <td>...</td>\n",
       "      <td>...</td>\n",
       "    </tr>\n",
       "    <tr>\n",
       "      <th>9738</th>\n",
       "      <td>m_193583</td>\n",
       "      <td>g_fantasy</td>\n",
       "    </tr>\n",
       "    <tr>\n",
       "      <th>9739</th>\n",
       "      <td>m_193585</td>\n",
       "      <td>g_drama</td>\n",
       "    </tr>\n",
       "    <tr>\n",
       "      <th>9740</th>\n",
       "      <td>m_193587</td>\n",
       "      <td>g_action</td>\n",
       "    </tr>\n",
       "    <tr>\n",
       "      <th>9740</th>\n",
       "      <td>m_193587</td>\n",
       "      <td>g_animation</td>\n",
       "    </tr>\n",
       "    <tr>\n",
       "      <th>9741</th>\n",
       "      <td>m_193609</td>\n",
       "      <td>g_comedy</td>\n",
       "    </tr>\n",
       "  </tbody>\n",
       "</table>\n",
       "<p>22084 rows × 2 columns</p>\n",
       "</div>"
      ],
      "text/plain": [
       "       movieId        genre\n",
       "0          m_1  g_adventure\n",
       "0          m_1  g_animation\n",
       "0          m_1   g_children\n",
       "0          m_1     g_comedy\n",
       "0          m_1    g_fantasy\n",
       "...        ...          ...\n",
       "9738  m_193583    g_fantasy\n",
       "9739  m_193585      g_drama\n",
       "9740  m_193587     g_action\n",
       "9740  m_193587  g_animation\n",
       "9741  m_193609     g_comedy\n",
       "\n",
       "[22084 rows x 2 columns]"
      ]
     },
     "execution_count": 7,
     "metadata": {},
     "output_type": "execute_result"
    }
   ],
   "source": [
    "# wczytujemy gatunki filmow\n",
    "\n",
    "movies = pandas.read_csv('ml-latest-small/movies.csv').drop(columns=['title'])\n",
    "movies['movieId'] = movies['movieId'].apply(lambda x: 'm_' + str(int(x)))\n",
    "movies['genres'] = movies['genres'].apply(lambda x: x.split('|'))\n",
    "movies_to_genres = movies.explode('genres')\n",
    "movies_to_genres['genres'] = movies_to_genres['genres'].apply(lambda x: 'g_' + x.lower())\n",
    "movies_to_genres = movies_to_genres.rename(columns = {'genres': 'genre'})\n",
    "movies_to_genres"
   ]
  },
  {
   "cell_type": "code",
   "execution_count": 8,
   "metadata": {
    "id": "FBb17my0t-ql"
   },
   "outputs": [],
   "source": [
    "users = ratings['userId'].unique()\n",
    "movies = ratings['movieId'].unique()\n",
    "genres = movies_to_genres['genre'].unique()"
   ]
  },
  {
   "cell_type": "markdown",
   "metadata": {
    "id": "B_HiXYOVt-qn"
   },
   "source": [
    "## Część 2. - spacer po grafie"
   ]
  },
  {
   "cell_type": "code",
   "execution_count": 10,
   "metadata": {
    "colab": {
     "base_uri": "https://localhost:8080/",
     "height": 1000
    },
    "id": "3QzKECRbt-qo",
    "outputId": "565cbd71-2cd8-4ef3-9895-4728116587a4"
   },
   "outputs": [
    {
     "name": "stdout",
     "output_type": "stream",
     "text": [
      "[]\n",
      "nodename_user: u_1\n",
      "nodename_movie: m_2012\n",
      "nodename_genre: g_western\n",
      "nodename_movie: m_266\n",
      "nodename_user: u_455\n",
      "nodename_movie: m_349\n",
      "nodename_genre: g_thriller\n",
      "nodename_movie: m_1127\n",
      "nodename_user: u_266\n",
      "nodename_movie: m_2115\n",
      "nodename_genre: g_fantasy\n",
      "nodename_movie: m_47124\n"
     ]
    },
    {
     "ename": "TypeError",
     "evalue": "object of type 'NoneType' has no len()",
     "output_type": "error",
     "traceback": [
      "\u001b[1;31m---------------------------------------------------------------------------\u001b[0m",
      "\u001b[1;31mTypeError\u001b[0m                                 Traceback (most recent call last)",
      "\u001b[1;32m~\\AppData\\Local\\Temp/ipykernel_20772/4181539390.py\u001b[0m in \u001b[0;36m<module>\u001b[1;34m\u001b[0m\n\u001b[0;32m    102\u001b[0m     \u001b[1;32mreturn\u001b[0m \u001b[0mpaths\u001b[0m\u001b[1;33m\u001b[0m\u001b[1;33m\u001b[0m\u001b[0m\n\u001b[0;32m    103\u001b[0m \u001b[1;33m\u001b[0m\u001b[0m\n\u001b[1;32m--> 104\u001b[1;33m \u001b[0mwalks\u001b[0m \u001b[1;33m=\u001b[0m \u001b[0mgenerate_walks\u001b[0m\u001b[1;33m(\u001b[0m\u001b[0mratings\u001b[0m\u001b[1;33m,\u001b[0m \u001b[0mmovies_to_genres\u001b[0m\u001b[1;33m,\u001b[0m \u001b[0mPATHS_COUNT_PER_NODE\u001b[0m\u001b[1;33m,\u001b[0m \u001b[0mPATH_LENGTH\u001b[0m\u001b[1;33m)\u001b[0m\u001b[1;33m\u001b[0m\u001b[1;33m\u001b[0m\u001b[0m\n\u001b[0m",
      "\u001b[1;32m~\\AppData\\Local\\Temp/ipykernel_20772/4181539390.py\u001b[0m in \u001b[0;36mgenerate_walks\u001b[1;34m(ratings, movies_to_genres, paths_per_node, path_length)\u001b[0m\n\u001b[0;32m     90\u001b[0m         \u001b[0mprint\u001b[0m\u001b[1;33m(\u001b[0m\u001b[0mi\u001b[0m\u001b[1;33m)\u001b[0m\u001b[1;33m\u001b[0m\u001b[1;33m\u001b[0m\u001b[0m\n\u001b[0;32m     91\u001b[0m     \u001b[1;32mfor\u001b[0m \u001b[0muser_id\u001b[0m \u001b[1;32min\u001b[0m \u001b[0musers\u001b[0m\u001b[1;33m:\u001b[0m\u001b[1;33m\u001b[0m\u001b[1;33m\u001b[0m\u001b[0m\n\u001b[1;32m---> 92\u001b[1;33m       \u001b[0mpath\u001b[0m \u001b[1;33m=\u001b[0m \u001b[0mget_paths\u001b[0m\u001b[1;33m(\u001b[0m\u001b[0muser_id\u001b[0m\u001b[1;33m,\u001b[0m \u001b[0mPrev\u001b[0m\u001b[1;33m.\u001b[0m\u001b[0mUser\u001b[0m\u001b[1;33m,\u001b[0m \u001b[0mratings\u001b[0m\u001b[1;33m,\u001b[0m \u001b[0mmovies_to_genres\u001b[0m\u001b[1;33m,\u001b[0m \u001b[0mpaths_per_node\u001b[0m\u001b[1;33m,\u001b[0m \u001b[0mpath_length\u001b[0m\u001b[1;33m)\u001b[0m\u001b[1;33m\u001b[0m\u001b[1;33m\u001b[0m\u001b[0m\n\u001b[0m\u001b[0;32m     93\u001b[0m       \u001b[0mpaths\u001b[0m\u001b[1;33m.\u001b[0m\u001b[0mextend\u001b[0m\u001b[1;33m(\u001b[0m\u001b[0mpath\u001b[0m\u001b[1;33m)\u001b[0m\u001b[1;33m\u001b[0m\u001b[1;33m\u001b[0m\u001b[0m\n\u001b[0;32m     94\u001b[0m     \u001b[1;32mfor\u001b[0m \u001b[0mmovie_id\u001b[0m \u001b[1;32min\u001b[0m \u001b[0mmovies\u001b[0m\u001b[1;33m:\u001b[0m\u001b[1;33m\u001b[0m\u001b[1;33m\u001b[0m\u001b[0m\n",
      "\u001b[1;32m~\\AppData\\Local\\Temp/ipykernel_20772/4181539390.py\u001b[0m in \u001b[0;36mget_paths\u001b[1;34m(node_name, prev, ratings, movies_to_genres, paths_per_node, path_length)\u001b[0m\n\u001b[0;32m     51\u001b[0m             \u001b[1;31m# print(ratings[possible_nodes])\u001b[0m\u001b[1;33m\u001b[0m\u001b[1;33m\u001b[0m\u001b[1;33m\u001b[0m\u001b[0m\n\u001b[0;32m     52\u001b[0m             \u001b[1;31m# print(choice(ratings[possible_nodes])[0])\u001b[0m\u001b[1;33m\u001b[0m\u001b[1;33m\u001b[0m\u001b[1;33m\u001b[0m\u001b[0m\n\u001b[1;32m---> 53\u001b[1;33m             \u001b[0mnext_node\u001b[0m \u001b[1;33m=\u001b[0m \u001b[0mchoice\u001b[0m\u001b[1;33m(\u001b[0m\u001b[0mpossible_nodes\u001b[0m\u001b[1;33m)\u001b[0m\u001b[1;33m[\u001b[0m\u001b[1;36m0\u001b[0m\u001b[1;33m]\u001b[0m\u001b[1;33m\u001b[0m\u001b[1;33m\u001b[0m\u001b[0m\n\u001b[0m\u001b[0;32m     54\u001b[0m             \u001b[1;31m# next_node = choice(ratings[possible_nodes])[0]\u001b[0m\u001b[1;33m\u001b[0m\u001b[1;33m\u001b[0m\u001b[1;33m\u001b[0m\u001b[0m\n\u001b[0;32m     55\u001b[0m             \u001b[0mprev\u001b[0m \u001b[1;33m=\u001b[0m \u001b[0mPrev\u001b[0m\u001b[1;33m.\u001b[0m\u001b[0mUser\u001b[0m\u001b[1;33m\u001b[0m\u001b[1;33m\u001b[0m\u001b[0m\n",
      "\u001b[1;32m~\\AppData\\Local\\Programs\\Python\\Python39\\lib\\random.py\u001b[0m in \u001b[0;36mchoice\u001b[1;34m(self, seq)\u001b[0m\n\u001b[0;32m    345\u001b[0m         \u001b[1;34m\"\"\"Choose a random element from a non-empty sequence.\"\"\"\u001b[0m\u001b[1;33m\u001b[0m\u001b[1;33m\u001b[0m\u001b[0m\n\u001b[0;32m    346\u001b[0m         \u001b[1;31m# raises IndexError if seq is empty\u001b[0m\u001b[1;33m\u001b[0m\u001b[1;33m\u001b[0m\u001b[1;33m\u001b[0m\u001b[0m\n\u001b[1;32m--> 347\u001b[1;33m         \u001b[1;32mreturn\u001b[0m \u001b[0mseq\u001b[0m\u001b[1;33m[\u001b[0m\u001b[0mself\u001b[0m\u001b[1;33m.\u001b[0m\u001b[0m_randbelow\u001b[0m\u001b[1;33m(\u001b[0m\u001b[0mlen\u001b[0m\u001b[1;33m(\u001b[0m\u001b[0mseq\u001b[0m\u001b[1;33m)\u001b[0m\u001b[1;33m)\u001b[0m\u001b[1;33m]\u001b[0m\u001b[1;33m\u001b[0m\u001b[1;33m\u001b[0m\u001b[0m\n\u001b[0m\u001b[0;32m    348\u001b[0m \u001b[1;33m\u001b[0m\u001b[0m\n\u001b[0;32m    349\u001b[0m     \u001b[1;32mdef\u001b[0m \u001b[0mshuffle\u001b[0m\u001b[1;33m(\u001b[0m\u001b[0mself\u001b[0m\u001b[1;33m,\u001b[0m \u001b[0mx\u001b[0m\u001b[1;33m,\u001b[0m \u001b[0mrandom\u001b[0m\u001b[1;33m=\u001b[0m\u001b[1;32mNone\u001b[0m\u001b[1;33m)\u001b[0m\u001b[1;33m:\u001b[0m\u001b[1;33m\u001b[0m\u001b[1;33m\u001b[0m\u001b[0m\n",
      "\u001b[1;31mTypeError\u001b[0m: object of type 'NoneType' has no len()"
     ]
    }
   ],
   "source": [
    "# generujemy losowe sciezki w grafie\n",
    "#   krawedzie reprezentowane sa w dwoch macierzach - ratings i movies\n",
    "#   w wersji podstawowej wszystkie krawedzie traktujemy jako niewazone i nieskierowane\n",
    "#   mozliwe ulepszenia:\n",
    "#    - rozwazenie krawedzi skierowanych\n",
    "#    - uwzglednienie wag krawedzi (ocen uzytkownikow)\n",
    "#    - jakas forma normalizacji - obnizenia wag wierzcholkow o wysokich stopniach\n",
    "#    - Node2Vec - parametry P i Q\n",
    "# wynikiem powinna byc lista list - kazda z tych list zawiera kolejne ID wierzcholkow na sciezce\n",
    "from enum import Enum\n",
    "from random import random, choice\n",
    "\n",
    "class Prev(Enum):\n",
    "  User = 1\n",
    "  Movie = 2\n",
    "  Genre = 3\n",
    "\n",
    "def my_where(arr, axis, to_find):\n",
    "    a = None\n",
    "    for val in arr:\n",
    "      # print(val, val[axis], to_find, val[axis] == to_find)\n",
    "      # print(a)\n",
    "      if val[axis] == to_find:\n",
    "        if a is not None:\n",
    "          a = np.append(a, np.array([val]), axis=0)\n",
    "        else:\n",
    "          a = np.array([val])\n",
    "    # print(a)\n",
    "    return a\n",
    "\n",
    "def get_paths(node_name, prev, ratings, movies_to_genres, paths_per_node, path_length):\n",
    "    paths = []\n",
    "    for path_number in range(paths_per_node):\n",
    "      path = [node_name]  \n",
    "      for path_step in range(path_length):\n",
    "        # print(f\"nodename_main: {node_name}\")\n",
    "        if prev == Prev.User:\n",
    "          print(f\"nodename_user: {node_name}\")\n",
    "          # print(ratings[:,0])\n",
    "          possible_nodes = my_where(ratings, 0, node_name)\n",
    "          # possible_nodes = np.where(ratings[:,0] == node_name)\n",
    "          # print(ratings[possible_nodes])\n",
    "          next_node = choice(possible_nodes)[1]\n",
    "          # next_node = choice(ratings[possible_nodes])[1]\n",
    "          prev = Prev.Movie\n",
    "        elif prev == Prev.Movie:\n",
    "          print(f\"nodename_movie: {node_name}\")\n",
    "          if random() < .5: #go to user\n",
    "            possible_nodes = my_where(ratings, 1, node_name)\n",
    "            # possible_nodes = np.where(ratings[:,1] == node_name)\n",
    "            # print(ratings[possible_nodes])\n",
    "            # print(choice(ratings[possible_nodes])[0])\n",
    "            next_node = choice(possible_nodes)[0]\n",
    "            # next_node = choice(ratings[possible_nodes])[0]\n",
    "            prev = Prev.User\n",
    "          else: #go to genre\n",
    "            possible_nodes = my_where(movies_to_genres, 0, node_name)\n",
    "            # possible_nodes = np.where(movies_to_genres[:,0] == node_name)\n",
    "            next_node = choice(possible_nodes)[1]\n",
    "            prev = Prev.Genre\n",
    "        elif prev == Prev.Genre:\n",
    "          print(f\"nodename_genre: {node_name}\")\n",
    "          possible_nodes = my_where(movies_to_genres, 1, node_name)\n",
    "          # possible_nodes = np.where(movies_to_genres[:,1] == node_name)\n",
    "          next_node = choice(possible_nodes)[0]\n",
    "          prev = Prev.Movie        \n",
    "        node_name = next_node\n",
    "        path.append(next_node)\n",
    "      paths.append(path)\n",
    "    return paths\n",
    "\n",
    "\n",
    "\n",
    "def generate_walks(ratings, movies_to_genres, paths_per_node, path_length):\n",
    "    paths = []\n",
    "    # print(f\"ratings: \\n{ratings}\")\n",
    "    # print(f\"movies to genres: \\n{movies_to_genres}\")\n",
    "    # print(f\"pathspernode: \\n{paths_per_node}\")\n",
    "    # print(f\"path_length: \\n{path_length}\")\n",
    "    # print(f\"unique users: {ratings['userId'].unique()}\")\n",
    "    # print(f\"unique movies: {ratings['movieId'].unique()}\")\n",
    "    # print(f\"unique genres: {movies_to_genres['genre'].unique()}\")\n",
    "    ratings = ratings.to_numpy()\n",
    "    movies_to_genres = movies_to_genres.to_numpy()\n",
    "    \n",
    "    possible_nodes = np.where(ratings[:,1] == 'm_108090')\n",
    "    print(ratings[possible_nodes])\n",
    "    for i in ratings:\n",
    "      if i[1] == 'm_108090':\n",
    "        print(i)\n",
    "    for user_id in users:\n",
    "      path = get_paths(user_id, Prev.User, ratings, movies_to_genres, paths_per_node, path_length)\n",
    "      paths.extend(path)\n",
    "    for movie_id in movies:\n",
    "      path = get_paths(movie_id, Prev.Movie, ratings, movies_to_genres, paths_per_node, path_length)\n",
    "      paths.extend(path)\n",
    "    for genre in genres:\n",
    "      path = get_paths(genre, Prev.Genre, ratings, movies_to_genres, paths_per_node, path_length)\n",
    "      paths.extend(path)\n",
    "\n",
    "    # ...\n",
    "    return paths\n",
    "    \n",
    "walks = generate_walks(ratings, movies_to_genres, PATHS_COUNT_PER_NODE, PATH_LENGTH)"
   ]
  },
  {
   "cell_type": "markdown",
   "metadata": {
    "id": "49TS0BTbt-qp"
   },
   "source": [
    "## Część 3. - obliczenie osadzeń"
   ]
  },
  {
   "cell_type": "code",
   "execution_count": null,
   "metadata": {
    "id": "4RHzm7CJt-qq"
   },
   "outputs": [],
   "source": [
    "# trenujemy model\n",
    "#   zauwaz, ze wszystkie trzy rodzaje wierzcholkow beda reprezentowane tak samo, w tej samej przestrzeni\n",
    "\n",
    "model = Word2Vec(sentences=walks, size=VECTOR_SIZE, window=NEIGHBOURS_WINDOW, min_count=1, workers=4)\n",
    "embeddings = model.wv"
   ]
  },
  {
   "cell_type": "markdown",
   "metadata": {
    "id": "luhxFhxWt-qr"
   },
   "source": [
    "## Część 4. - rekomendacje i zastosowania"
   ]
  },
  {
   "cell_type": "code",
   "execution_count": null,
   "metadata": {
    "id": "qB8Kiiptt-qr"
   },
   "outputs": [],
   "source": [
    "PULP_FICTION = 'm_296'\n",
    "TOY_STORY = 'm_1'\n",
    "PLANET_OF_THE_APES = 'm_2529'"
   ]
  },
  {
   "cell_type": "code",
   "execution_count": null,
   "metadata": {
    "id": "BzTydEtet-qs"
   },
   "outputs": [],
   "source": [
    "# wyszukajmy K najpodobniejszych filmów do danego\n",
    "# porownaj wyniki dla odleglosci euklidesowej i cosinuswej, np. na trzech powyzszych filmach\n",
    "\n",
    "def euclidian_distance(i, j):\n",
    "    pass\n",
    "\n",
    "def cosine_distance(i, j):\n",
    "    pass\n",
    "\n",
    "def k_most_similar_movies(movie_id, K, embeddings, distance_fun):\n",
    "    # ...\n",
    "    return k_most_similar\n",
    "\n",
    "k_most_similar_movies(PULP_FICTION, 5, embeddings, cosine_distance)"
   ]
  },
  {
   "cell_type": "code",
   "execution_count": null,
   "metadata": {
    "id": "XjekgKbwt-qs"
   },
   "outputs": [],
   "source": [
    "# wyszukajmy k filmow najblizszych uzytkownikowi\n",
    "# wykorzystaj funkcje z poprzedniej komorki\n",
    "\n",
    "def k_best_movies_for_user(user_id, K, embeddings, distance_fun):\n",
    "    # ...\n",
    "    return k_best_movies"
   ]
  },
  {
   "cell_type": "code",
   "execution_count": null,
   "metadata": {
    "id": "BmEFoSKLt-qs"
   },
   "outputs": [],
   "source": [
    "# sprobujmy czegos bardziej skomplikowanego\n",
    "#   znajdz ulubiony gatunek filmowy uzytkownika\n",
    "#   a nastepnie zaproponuj K filmow z tego gatunku - ale nie tych najblizszych uzytkownikowi\n",
    "#   (zaproponuj, w jaki sposob dobrac filmy interesujace, ale nie z najblizszego otoczenia)\n",
    "\n",
    "def k_from_favourite_genre(user_id, K, embeddings, distance_fun):\n",
    "    # ...\n",
    "    return k_from_genre"
   ]
  },
  {
   "cell_type": "code",
   "execution_count": null,
   "metadata": {
    "id": "rsdnWkNdt-qt"
   },
   "outputs": [],
   "source": [
    "# Na koniec najbardziej skomplikowany algorytm - odpowiednik \"Radia utworu\" w Spotify.\n",
    "#   Zaczynamy od jednego filmu, a nastepnie wyznaczamy kolejne, wedrujac po przestrzeni, w ktorej wszystkie elementy sa osadzone.\n",
    "#   Zaproponuj, jak zdefiniowac podzbior filmow, z ktorych bedziemy wybierac (np. filmy odlegle o min. a i max. b od danego)\n",
    "#   oraz jak generowac kolejny skok (tak, zeby seria rekomendacji nie byla zbyt monotonna, ale rownoczesnie zgodna z gustem uzytkownika)\n",
    "\n",
    "def get_playlist(start_movie_id, user_id, K, embeddings):\n",
    "    # ...\n",
    "    return playlist"
   ]
  }
 ],
 "metadata": {
  "colab": {
   "collapsed_sections": [],
   "name": "lab5_graphs.ipynb",
   "provenance": []
  },
  "kernelspec": {
   "display_name": "Python 3 (ipykernel)",
   "language": "python",
   "name": "python3"
  },
  "language_info": {
   "codemirror_mode": {
    "name": "ipython",
    "version": 3
   },
   "file_extension": ".py",
   "mimetype": "text/x-python",
   "name": "python",
   "nbconvert_exporter": "python",
   "pygments_lexer": "ipython3",
   "version": "3.9.5"
  }
 },
 "nbformat": 4,
 "nbformat_minor": 1
}
