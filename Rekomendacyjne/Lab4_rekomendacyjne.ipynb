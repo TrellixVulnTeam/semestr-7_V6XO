{
  "nbformat": 4,
  "nbformat_minor": 0,
  "metadata": {
    "colab": {
      "name": "Lab4_rekomendacyjne.ipynb",
      "provenance": [],
      "authorship_tag": "ABX9TyNeEuFZWItgcUxHpVmTPUOI",
      "include_colab_link": true
    },
    "kernelspec": {
      "name": "python3",
      "display_name": "Python 3"
    },
    "language_info": {
      "name": "python"
    }
  },
  "cells": [
    {
      "cell_type": "markdown",
      "metadata": {
        "id": "view-in-github",
        "colab_type": "text"
      },
      "source": [
        "<a href=\"https://colab.research.google.com/github/maciejsikora2302/semestr-7/blob/main/Rekomendacyjne/Lab4_rekomendacyjne.ipynb\" target=\"_parent\"><img src=\"https://colab.research.google.com/assets/colab-badge.svg\" alt=\"Open In Colab\"/></a>"
      ]
    },
    {
      "cell_type": "code",
      "metadata": {
        "id": "ZK9jZzcdwcGX"
      },
      "source": [
        "# importujemy potrzebne pakiety\n",
        "\n",
        "from collections import Counter, defaultdict\n",
        "import codecs\n",
        "import csv\n",
        "\n",
        "from gensim.corpora import Dictionary\n",
        "from gensim.models import Word2Vec\n",
        "import matplotlib.pyplot as plt\n",
        "import numpy as np\n",
        "from sklearn.cluster import KMeans, AgglomerativeClustering\n",
        "from wordcloud import WordCloud"
      ],
      "execution_count": 1,
      "outputs": []
    },
    {
      "cell_type": "code",
      "metadata": {
        "id": "WUXLiZcTxHGW"
      },
      "source": [
        "PATH = 'beer_reviews.csv'\n",
        "SCORE_THRESHOLD = 4 # recenzje z co najmniej taka ocena wezmiemy pod uwage\n",
        "VECTOR_SIZE = 20 # jak dlugie powinny byc wektory osadzen uzytkownikow\n",
        "SEGMENTS_COUNT = 10 # na ile segmentow chcemy podzielic populacje uzytkownikow"
      ],
      "execution_count": 2,
      "outputs": []
    },
    {
      "cell_type": "code",
      "metadata": {
        "colab": {
          "base_uri": "https://localhost:8080/",
          "height": 337
        },
        "id": "l4Wa5f5vxKuV",
        "outputId": "b4f03e53-21f2-4c1d-95f1-43f6b2a6c1bf"
      },
      "source": [
        "# wczytujemy dane\n",
        "\n",
        "def parse_headers(column_names):\n",
        "    beer_id_column =  column_names.index('beer_beerid')\n",
        "    beer_style_column = column_names.index('beer_style')\n",
        "    user_id_column =  column_names.index('review_profilename')\n",
        "    score_column =  column_names.index('review_overall')\n",
        "    return beer_id_column, beer_style_column, user_id_column, score_column\n",
        "\n",
        "\n",
        "def parse_review(line, beer_id_column, beer_style_column, user_id_column, score_column):\n",
        "    return line[beer_id_column], line[beer_style_column], line[user_id_column], float(line[score_column])\n",
        "\n",
        "def read_and_parse_reviews(path, score_threshold):\n",
        "    with codecs.open(PATH, 'r', 'UTF-8') as datafile:\n",
        "        datareader = csv.reader(datafile)\n",
        "        beer_id_column, beer_style_column, user_id_column, score_column = parse_headers(next(datareader))\n",
        "    \n",
        "        users_favourite_beers = defaultdict(list)\n",
        "        for review in datareader:\n",
        "            beer_id, _, user_id, score = parse_review(review, beer_id_column, beer_style_column, user_id_column, score_column)\n",
        "            if score >= score_threshold:\n",
        "                users_favourite_beers[user_id].append(beer_id)\n",
        "\n",
        "    return users_favourite_beers\n",
        "\n",
        "def get_beer_id_to_style_mapping(path):\n",
        "    with codecs.open(PATH, 'r', 'UTF-8') as datafile:\n",
        "        datareader = csv.reader(datafile)\n",
        "        beer_id_column, beer_style_column, user_id_column, score_column = parse_headers(next(datareader))\n",
        "        beer_styles = {}\n",
        "        for review in datareader:\n",
        "            beer_id, beer_style, _, _ = parse_review(review, beer_id_column, beer_style_column, user_id_column, score_column)\n",
        "            beer_styles[beer_id] = beer_style\n",
        "        return beer_styles\n",
        "\n",
        "# otrzymujemy slownik - mapowanie z user_id na liste ulubionych beer_ids\n",
        "users_favourite_beers = read_and_parse_reviews(PATH, SCORE_THRESHOLD)\n",
        "\n",
        "# dodatkowo przygotujmy sobie slownik mapujacy id piwa na nazwe stylu\n",
        "beer_styles = get_beer_id_to_style_mapping(PATH)"
      ],
      "execution_count": 3,
      "outputs": [
        {
          "output_type": "error",
          "ename": "IndexError",
          "evalue": "ignored",
          "traceback": [
            "\u001b[0;31m---------------------------------------------------------------------------\u001b[0m",
            "\u001b[0;31mIndexError\u001b[0m                                Traceback (most recent call last)",
            "\u001b[0;32m<ipython-input-3-f9aff64bb28c>\u001b[0m in \u001b[0;36m<module>\u001b[0;34m()\u001b[0m\n\u001b[1;32m     39\u001b[0m \u001b[0;34m\u001b[0m\u001b[0m\n\u001b[1;32m     40\u001b[0m \u001b[0;31m# dodatkowo przygotujmy sobie slownik mapujacy id piwa na nazwe stylu\u001b[0m\u001b[0;34m\u001b[0m\u001b[0;34m\u001b[0m\u001b[0;34m\u001b[0m\u001b[0m\n\u001b[0;32m---> 41\u001b[0;31m \u001b[0mbeer_styles\u001b[0m \u001b[0;34m=\u001b[0m \u001b[0mget_beer_id_to_style_mapping\u001b[0m\u001b[0;34m(\u001b[0m\u001b[0mPATH\u001b[0m\u001b[0;34m)\u001b[0m\u001b[0;34m\u001b[0m\u001b[0;34m\u001b[0m\u001b[0m\n\u001b[0m",
            "\u001b[0;32m<ipython-input-3-f9aff64bb28c>\u001b[0m in \u001b[0;36mget_beer_id_to_style_mapping\u001b[0;34m(path)\u001b[0m\n\u001b[1;32m     31\u001b[0m         \u001b[0mbeer_styles\u001b[0m \u001b[0;34m=\u001b[0m \u001b[0;34m{\u001b[0m\u001b[0;34m}\u001b[0m\u001b[0;34m\u001b[0m\u001b[0;34m\u001b[0m\u001b[0m\n\u001b[1;32m     32\u001b[0m         \u001b[0;32mfor\u001b[0m \u001b[0mreview\u001b[0m \u001b[0;32min\u001b[0m \u001b[0mdatareader\u001b[0m\u001b[0;34m:\u001b[0m\u001b[0;34m\u001b[0m\u001b[0;34m\u001b[0m\u001b[0m\n\u001b[0;32m---> 33\u001b[0;31m             \u001b[0mbeer_id\u001b[0m\u001b[0;34m,\u001b[0m \u001b[0mbeer_style\u001b[0m\u001b[0;34m,\u001b[0m \u001b[0m_\u001b[0m\u001b[0;34m,\u001b[0m \u001b[0m_\u001b[0m \u001b[0;34m=\u001b[0m \u001b[0mparse_review\u001b[0m\u001b[0;34m(\u001b[0m\u001b[0mreview\u001b[0m\u001b[0;34m,\u001b[0m \u001b[0mbeer_id_column\u001b[0m\u001b[0;34m,\u001b[0m \u001b[0mbeer_style_column\u001b[0m\u001b[0;34m,\u001b[0m \u001b[0muser_id_column\u001b[0m\u001b[0;34m,\u001b[0m \u001b[0mscore_column\u001b[0m\u001b[0;34m)\u001b[0m\u001b[0;34m\u001b[0m\u001b[0;34m\u001b[0m\u001b[0m\n\u001b[0m\u001b[1;32m     34\u001b[0m             \u001b[0mbeer_styles\u001b[0m\u001b[0;34m[\u001b[0m\u001b[0mbeer_id\u001b[0m\u001b[0;34m]\u001b[0m \u001b[0;34m=\u001b[0m \u001b[0mbeer_style\u001b[0m\u001b[0;34m\u001b[0m\u001b[0;34m\u001b[0m\u001b[0m\n\u001b[1;32m     35\u001b[0m         \u001b[0;32mreturn\u001b[0m \u001b[0mbeer_styles\u001b[0m\u001b[0;34m\u001b[0m\u001b[0;34m\u001b[0m\u001b[0m\n",
            "\u001b[0;32m<ipython-input-3-f9aff64bb28c>\u001b[0m in \u001b[0;36mparse_review\u001b[0;34m(line, beer_id_column, beer_style_column, user_id_column, score_column)\u001b[0m\n\u001b[1;32m     10\u001b[0m \u001b[0;34m\u001b[0m\u001b[0m\n\u001b[1;32m     11\u001b[0m \u001b[0;32mdef\u001b[0m \u001b[0mparse_review\u001b[0m\u001b[0;34m(\u001b[0m\u001b[0mline\u001b[0m\u001b[0;34m,\u001b[0m \u001b[0mbeer_id_column\u001b[0m\u001b[0;34m,\u001b[0m \u001b[0mbeer_style_column\u001b[0m\u001b[0;34m,\u001b[0m \u001b[0muser_id_column\u001b[0m\u001b[0;34m,\u001b[0m \u001b[0mscore_column\u001b[0m\u001b[0;34m)\u001b[0m\u001b[0;34m:\u001b[0m\u001b[0;34m\u001b[0m\u001b[0;34m\u001b[0m\u001b[0m\n\u001b[0;32m---> 12\u001b[0;31m     \u001b[0;32mreturn\u001b[0m \u001b[0mline\u001b[0m\u001b[0;34m[\u001b[0m\u001b[0mbeer_id_column\u001b[0m\u001b[0;34m]\u001b[0m\u001b[0;34m,\u001b[0m \u001b[0mline\u001b[0m\u001b[0;34m[\u001b[0m\u001b[0mbeer_style_column\u001b[0m\u001b[0;34m]\u001b[0m\u001b[0;34m,\u001b[0m \u001b[0mline\u001b[0m\u001b[0;34m[\u001b[0m\u001b[0muser_id_column\u001b[0m\u001b[0;34m]\u001b[0m\u001b[0;34m,\u001b[0m \u001b[0mfloat\u001b[0m\u001b[0;34m(\u001b[0m\u001b[0mline\u001b[0m\u001b[0;34m[\u001b[0m\u001b[0mscore_column\u001b[0m\u001b[0;34m]\u001b[0m\u001b[0;34m)\u001b[0m\u001b[0;34m\u001b[0m\u001b[0;34m\u001b[0m\u001b[0m\n\u001b[0m\u001b[1;32m     13\u001b[0m \u001b[0;34m\u001b[0m\u001b[0m\n\u001b[1;32m     14\u001b[0m \u001b[0;32mdef\u001b[0m \u001b[0mread_and_parse_reviews\u001b[0m\u001b[0;34m(\u001b[0m\u001b[0mpath\u001b[0m\u001b[0;34m,\u001b[0m \u001b[0mscore_threshold\u001b[0m\u001b[0;34m)\u001b[0m\u001b[0;34m:\u001b[0m\u001b[0;34m\u001b[0m\u001b[0;34m\u001b[0m\u001b[0m\n",
            "\u001b[0;31mIndexError\u001b[0m: list index out of range"
          ]
        }
      ]
    },
    {
      "cell_type": "code",
      "metadata": {
        "id": "4alDRDcoxOvd"
      },
      "source": [
        "users_favourite_beers"
      ],
      "execution_count": null,
      "outputs": []
    },
    {
      "cell_type": "code",
      "metadata": {
        "id": "bNmqEAaaxQu_"
      },
      "source": [
        "beer_styles"
      ],
      "execution_count": null,
      "outputs": []
    },
    {
      "cell_type": "code",
      "metadata": {
        "id": "6rALWLu0xSYZ"
      },
      "source": [
        "# trenujemy model osadzajacy piwa i uzytkownikow w przestrzeni\n",
        "\n",
        "model = Word2Vec(sentences=users_favourite_beers.values(), size=VECTOR_SIZE, window=5, min_count=1, workers=4)"
      ],
      "execution_count": null,
      "outputs": []
    },
    {
      "cell_type": "code",
      "metadata": {
        "id": "MfcB5Xa1xTt3"
      },
      "source": [
        "# na podstawie modelu obliczamy wektorowa reprezentacje uzytkownikow\n",
        "\n",
        "def get_mean_vector_for_user(user_favourite_beers, model, vector_size):\n",
        "    # inicjalizujemy wektor zerami\n",
        "    v = np.zeros(vector_size)\n",
        "    \n",
        "    # iterujemy po liscie user_favourite_beers, odczytujemy z modelu wektor reprezentujacy kazde piwo i dodajemy do wektora\n",
        "    #   uzyj: model.wv[beer_id]\n",
        "    # ...\n",
        "#     print(v)\n",
        "    for i, fav_beer in enumerate(user_favourite_beers):\n",
        "#         print(np.sum(model.wv[fav_beer]))\n",
        "        try:\n",
        "            v += model.wv[fav_beer]\n",
        "        except IndexError:\n",
        "            print('there are more beers')\n",
        "            break\n",
        "    \n",
        "    \n",
        "    # normalizujemy wektor - dzielimy kazda wspolrzedna przez liczbe piw\n",
        "    for i, val in enumerate(v):\n",
        "        v[i] /= len(user_favourite_beers)\n",
        "    # ...\n",
        "#     print(v)\n",
        "    \n",
        "    return v\n",
        "\n",
        "\n",
        "def get_mean_user_vectors(users_favourite_beers, model, vector_size):\n",
        "    # korzystajac z powyzszej funkcji, tworzymy slownik {user_id -> vector}\n",
        "    mean_users_vectors = {}\n",
        "    for user in users_favourite_beers.keys():\n",
        "        mean_users_vectors[user] = get_mean_vector_for_user(users_favourite_beers[user], model, vector_size)\n",
        "    # ...\n",
        "    return mean_users_vectors\n",
        "\n",
        "\n",
        "# get_mean_vector_for_user(users_favourite_beers, model, VECTOR_SIZE)\n",
        "user_vectors = get_mean_user_vectors(users_favourite_beers, model, VECTOR_SIZE)"
      ],
      "execution_count": null,
      "outputs": []
    },
    {
      "cell_type": "code",
      "metadata": {
        "id": "StzlaryNxVoX"
      },
      "source": [
        "# klastrujemy uzytkownikow - mozemy uzyc wielu algorytmow, np k-means, agglomerative, BIRCH, ...\n",
        "\n",
        "def get_users_segmentation(user_vectors, vector_size, segments_count, clustering_algorithm):\n",
        "    # rozkladamy slownik user_vectors na liste uzytkownikow i liste wektorow\n",
        "    #  - wazne jest zachowanie tej samej kolejnosci w obu listach\n",
        "    users = user_vectors.keys()# ...\n",
        "    vectors = [user_vectors[user] for user in users]# ...\n",
        "    \n",
        "    # zamieniamy liste wektorow w macierz\n",
        "    users_array = np.stack(vectors, axis=0)\n",
        "    # zaimplementuj wsparcie dla co najmniej jednego algorytmu wiecej\n",
        "    if clustering_algorithm == 'agglomerative':\n",
        "        clustering = AgglomerativeClustering(n_clusters=segments_count).fit_predict(users_array)\n",
        "        # clustering to lista przypisanych klastrow - i-ty element to klaster, do ktorego nalezy i-ty wektor\n",
        "    \n",
        "    print(clustering)\n",
        "    \n",
        "    segmentation = {}\n",
        "    # jesli nie pomieszalismy kolejnosci w listach, to mozemy odzyskac mapping user_id -> cluster\n",
        "    # ...\n",
        "    return segmentation\n",
        "\n",
        "segmentation = get_users_segmentation(user_vectors, VECTOR_SIZE, SEGMENTS_COUNT, 'agglomerative')"
      ],
      "execution_count": null,
      "outputs": []
    },
    {
      "cell_type": "code",
      "metadata": {
        "id": "6ha1WHMzxXtA"
      },
      "source": [
        "# obliczamy licznosci segmentow\n",
        "\n",
        "def get_segment_sizes(segmentation):\n",
        "    # ...\n",
        "\n",
        "get_segment_sizes(segmentation)"
      ],
      "execution_count": null,
      "outputs": []
    },
    {
      "cell_type": "markdown",
      "metadata": {
        "id": "KLw5MVK7xaKv"
      },
      "source": [
        "## Część 4. - opisy segmentów"
      ]
    },
    {
      "cell_type": "code",
      "metadata": {
        "id": "ICREtjqaxbln"
      },
      "source": [
        "# obliczamy popularnosc styli w segmentach oraz w calej populacji\n",
        "#  - czyli jak czesto kazdy ze styli wystepowal\n",
        "\n",
        "def get_per_segment_styles_popularity(users_favourite_beers, beer_styles, segmentation, segments_count):\n",
        "    beer_styles_per_segment = {i: defaultdict(lambda: 0) for i in range(segments_count)}\n",
        "    # do tego slownika bedziemy sie odwolywac np. tak: beer_styles_per_segment[segment][style]\n",
        "    \n",
        "    for user, beers in users_favourite_beers.items():\n",
        "        # ...\n",
        "    \n",
        "    return beer_styles_per_segment\n",
        "\n",
        "def get_total_styles_popularity(beer_styles_per_segment):\n",
        "    total_popularity = defaultdict(lambda: 0)\n",
        "    # ...\n",
        "    return total_popularity\n",
        "\n",
        "per_segment_styles_popularity = get_per_segment_styles_popularity(users_favourite_beers, beer_styles, segmentation, SEGMENTS_COUNT)\n",
        "total_styles_popularity = get_total_styles_popularity(per_segment_styles_popularity)"
      ],
      "execution_count": null,
      "outputs": []
    },
    {
      "cell_type": "code",
      "metadata": {
        "id": "rWLd2WXxxdzU"
      },
      "source": [
        "# przygotujmy dwa opisy segmentow - top N najpopularniejszych stylow w kazdym segmencie\n",
        "#   oraz top N unikalnych - to samo, ale popularnosc w segmencie dzielimy przez laczna popularnosc\n",
        "#   dla potrzeb wizualizacji w nastepnym kroku, zwroc slownik {segment_id -> {style_id -> frequency}}\n",
        "\n",
        "def most_popular_styles_per_segment(per_segment_styles_popularity, N):\n",
        "    # ...\n",
        "\n",
        "def most_distinctive_styles_per_segment(total_styles_popularity, per_segment_styles_popularity, N):\n",
        "    # ...\n",
        "     \n",
        "top_N = 50\n",
        "most_popular = most_popular_styles_per_segment(per_segment_styles_popularity, top_N)\n",
        "most_distinctive = most_distinctive_styles_per_segment(total_styles_popularity, per_segment_styles_popularity, top_N)"
      ],
      "execution_count": null,
      "outputs": []
    },
    {
      "cell_type": "markdown",
      "metadata": {
        "id": "_26qRSCHxffD"
      },
      "source": [
        "## Wizualizacja"
      ]
    },
    {
      "cell_type": "code",
      "metadata": {
        "id": "YYG0S7mKxhda"
      },
      "source": [
        "# teraz mozemy zwizualizowac nasze segmentacje za pomoca word clouds\n",
        "#   zauwaz, jak roznia sie obie metody opisow segmentow oraz opisy miedzy poszczegolnymi segmentami\n",
        "\n",
        "def visualise_styles(most_popular, most_distinctive, segment_id):\n",
        "    fig, (ax1, ax2) = plt.subplots(1, 2)\n",
        "    wordcloud1 = WordCloud(width = 1000, height = 750, random_state=42, background_color='black', colormap='Set2', collocations=False)\n",
        "    wordcloud1.generate_from_frequencies(frequencies=most_popular[segment_id])\n",
        "    ax1.imshow(wordcloud1, interpolation=\"bilinear\")\n",
        "    wordcloud2 = WordCloud(width = 1000, height = 750, random_state=42, background_color='black', colormap='Set2', collocations=False)\n",
        "    wordcloud2.generate_from_frequencies(frequencies=most_distinctive[segment_id])\n",
        "    ax2.imshow(wordcloud2, interpolation=\"bilinear\")\n",
        "    ax1.axis(\"off\")\n",
        "    ax2.axis(\"off\")\n",
        "    plt.show()\n",
        "    \n",
        "visualise_styles(most_popular, most_distinctive, 3)"
      ],
      "execution_count": null,
      "outputs": []
    }
  ]
}